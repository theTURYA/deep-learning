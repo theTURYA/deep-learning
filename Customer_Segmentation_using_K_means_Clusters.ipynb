{
  "nbformat": 4,
  "nbformat_minor": 0,
  "metadata": {
    "colab": {
      "provenance": [],
      "authorship_tag": "ABX9TyPHrWw3qG/NPBehXGXHkAus",
      "include_colab_link": true
    },
    "kernelspec": {
      "name": "python3",
      "display_name": "Python 3"
    },
    "language_info": {
      "name": "python"
    }
  },
  "cells": [
    {
      "cell_type": "markdown",
      "metadata": {
        "id": "view-in-github",
        "colab_type": "text"
      },
      "source": [
        "<a href=\"https://colab.research.google.com/github/theTURYA/deep-learning/blob/main/Customer_Segmentation_using_K_means_Clusters.ipynb\" target=\"_parent\"><img src=\"https://colab.research.google.com/assets/colab-badge.svg\" alt=\"Open In Colab\"/></a>"
      ]
    },
    {
      "cell_type": "markdown",
      "source": [
        "## Work Flow:\n",
        "Customer Data --> Data Pre-processing --> Data Analysis --> Optimum number of Clusters (WCSS) --> K-Means Clustering --> Visualizating the Clusters\n",
        "\n",
        "\n",
        "🥊**Dataset link:** https://www.kaggle.com/datasets/vjchoudhary7/customer-segmentation-tutorial-in-python?resource=download"
      ],
      "metadata": {
        "id": "0GkSB2yDSPzE"
      }
    },
    {
      "cell_type": "markdown",
      "source": [
        "### Importing the required dependencies"
      ],
      "metadata": {
        "id": "N-bKwzt0S_i7"
      }
    },
    {
      "cell_type": "code",
      "execution_count": 2,
      "metadata": {
        "id": "0yexc3GFSDsT"
      },
      "outputs": [],
      "source": [
        "import numpy as np\n",
        "import pandas as pd\n",
        "import matplotlib.pyplot as plt\n",
        "import seaborn as sns\n",
        "from sklearn.cluster import KMeans\n"
      ]
    },
    {
      "cell_type": "markdown",
      "source": [
        "### Data Collection and Analysis"
      ],
      "metadata": {
        "id": "VEe_b37pTkM-"
      }
    },
    {
      "cell_type": "code",
      "source": [
        "# Load the dataset fro csv file to Pandas DataFrame\n",
        "customer_data = pd.read_csv(\"/content/Mall_Customers.csv\")\n",
        "customer_data.head()"
      ],
      "metadata": {
        "colab": {
          "base_uri": "https://localhost:8080/",
          "height": 206
        },
        "id": "qINvefMQTjDs",
        "outputId": "314c8d3b-b80d-4d20-e123-548b04810797"
      },
      "execution_count": 5,
      "outputs": [
        {
          "output_type": "execute_result",
          "data": {
            "text/plain": [
              "   CustomerID  Gender  Age  Annual Income (k$)  Spending Score (1-100)\n",
              "0           1    Male   19                  15                      39\n",
              "1           2    Male   21                  15                      81\n",
              "2           3  Female   20                  16                       6\n",
              "3           4  Female   23                  16                      77\n",
              "4           5  Female   31                  17                      40"
            ],
            "text/html": [
              "\n",
              "  <div id=\"df-f38bebed-8bc0-4f53-9a41-1e81c4272983\" class=\"colab-df-container\">\n",
              "    <div>\n",
              "<style scoped>\n",
              "    .dataframe tbody tr th:only-of-type {\n",
              "        vertical-align: middle;\n",
              "    }\n",
              "\n",
              "    .dataframe tbody tr th {\n",
              "        vertical-align: top;\n",
              "    }\n",
              "\n",
              "    .dataframe thead th {\n",
              "        text-align: right;\n",
              "    }\n",
              "</style>\n",
              "<table border=\"1\" class=\"dataframe\">\n",
              "  <thead>\n",
              "    <tr style=\"text-align: right;\">\n",
              "      <th></th>\n",
              "      <th>CustomerID</th>\n",
              "      <th>Gender</th>\n",
              "      <th>Age</th>\n",
              "      <th>Annual Income (k$)</th>\n",
              "      <th>Spending Score (1-100)</th>\n",
              "    </tr>\n",
              "  </thead>\n",
              "  <tbody>\n",
              "    <tr>\n",
              "      <th>0</th>\n",
              "      <td>1</td>\n",
              "      <td>Male</td>\n",
              "      <td>19</td>\n",
              "      <td>15</td>\n",
              "      <td>39</td>\n",
              "    </tr>\n",
              "    <tr>\n",
              "      <th>1</th>\n",
              "      <td>2</td>\n",
              "      <td>Male</td>\n",
              "      <td>21</td>\n",
              "      <td>15</td>\n",
              "      <td>81</td>\n",
              "    </tr>\n",
              "    <tr>\n",
              "      <th>2</th>\n",
              "      <td>3</td>\n",
              "      <td>Female</td>\n",
              "      <td>20</td>\n",
              "      <td>16</td>\n",
              "      <td>6</td>\n",
              "    </tr>\n",
              "    <tr>\n",
              "      <th>3</th>\n",
              "      <td>4</td>\n",
              "      <td>Female</td>\n",
              "      <td>23</td>\n",
              "      <td>16</td>\n",
              "      <td>77</td>\n",
              "    </tr>\n",
              "    <tr>\n",
              "      <th>4</th>\n",
              "      <td>5</td>\n",
              "      <td>Female</td>\n",
              "      <td>31</td>\n",
              "      <td>17</td>\n",
              "      <td>40</td>\n",
              "    </tr>\n",
              "  </tbody>\n",
              "</table>\n",
              "</div>\n",
              "    <div class=\"colab-df-buttons\">\n",
              "\n",
              "  <div class=\"colab-df-container\">\n",
              "    <button class=\"colab-df-convert\" onclick=\"convertToInteractive('df-f38bebed-8bc0-4f53-9a41-1e81c4272983')\"\n",
              "            title=\"Convert this dataframe to an interactive table.\"\n",
              "            style=\"display:none;\">\n",
              "\n",
              "  <svg xmlns=\"http://www.w3.org/2000/svg\" height=\"24px\" viewBox=\"0 -960 960 960\">\n",
              "    <path d=\"M120-120v-720h720v720H120Zm60-500h600v-160H180v160Zm220 220h160v-160H400v160Zm0 220h160v-160H400v160ZM180-400h160v-160H180v160Zm440 0h160v-160H620v160ZM180-180h160v-160H180v160Zm440 0h160v-160H620v160Z\"/>\n",
              "  </svg>\n",
              "    </button>\n",
              "\n",
              "  <style>\n",
              "    .colab-df-container {\n",
              "      display:flex;\n",
              "      gap: 12px;\n",
              "    }\n",
              "\n",
              "    .colab-df-convert {\n",
              "      background-color: #E8F0FE;\n",
              "      border: none;\n",
              "      border-radius: 50%;\n",
              "      cursor: pointer;\n",
              "      display: none;\n",
              "      fill: #1967D2;\n",
              "      height: 32px;\n",
              "      padding: 0 0 0 0;\n",
              "      width: 32px;\n",
              "    }\n",
              "\n",
              "    .colab-df-convert:hover {\n",
              "      background-color: #E2EBFA;\n",
              "      box-shadow: 0px 1px 2px rgba(60, 64, 67, 0.3), 0px 1px 3px 1px rgba(60, 64, 67, 0.15);\n",
              "      fill: #174EA6;\n",
              "    }\n",
              "\n",
              "    .colab-df-buttons div {\n",
              "      margin-bottom: 4px;\n",
              "    }\n",
              "\n",
              "    [theme=dark] .colab-df-convert {\n",
              "      background-color: #3B4455;\n",
              "      fill: #D2E3FC;\n",
              "    }\n",
              "\n",
              "    [theme=dark] .colab-df-convert:hover {\n",
              "      background-color: #434B5C;\n",
              "      box-shadow: 0px 1px 3px 1px rgba(0, 0, 0, 0.15);\n",
              "      filter: drop-shadow(0px 1px 2px rgba(0, 0, 0, 0.3));\n",
              "      fill: #FFFFFF;\n",
              "    }\n",
              "  </style>\n",
              "\n",
              "    <script>\n",
              "      const buttonEl =\n",
              "        document.querySelector('#df-f38bebed-8bc0-4f53-9a41-1e81c4272983 button.colab-df-convert');\n",
              "      buttonEl.style.display =\n",
              "        google.colab.kernel.accessAllowed ? 'block' : 'none';\n",
              "\n",
              "      async function convertToInteractive(key) {\n",
              "        const element = document.querySelector('#df-f38bebed-8bc0-4f53-9a41-1e81c4272983');\n",
              "        const dataTable =\n",
              "          await google.colab.kernel.invokeFunction('convertToInteractive',\n",
              "                                                    [key], {});\n",
              "        if (!dataTable) return;\n",
              "\n",
              "        const docLinkHtml = 'Like what you see? Visit the ' +\n",
              "          '<a target=\"_blank\" href=https://colab.research.google.com/notebooks/data_table.ipynb>data table notebook</a>'\n",
              "          + ' to learn more about interactive tables.';\n",
              "        element.innerHTML = '';\n",
              "        dataTable['output_type'] = 'display_data';\n",
              "        await google.colab.output.renderOutput(dataTable, element);\n",
              "        const docLink = document.createElement('div');\n",
              "        docLink.innerHTML = docLinkHtml;\n",
              "        element.appendChild(docLink);\n",
              "      }\n",
              "    </script>\n",
              "  </div>\n",
              "\n",
              "\n",
              "<div id=\"df-6df46b8b-e998-40a8-8b06-290aaed6ed09\">\n",
              "  <button class=\"colab-df-quickchart\" onclick=\"quickchart('df-6df46b8b-e998-40a8-8b06-290aaed6ed09')\"\n",
              "            title=\"Suggest charts\"\n",
              "            style=\"display:none;\">\n",
              "\n",
              "<svg xmlns=\"http://www.w3.org/2000/svg\" height=\"24px\"viewBox=\"0 0 24 24\"\n",
              "     width=\"24px\">\n",
              "    <g>\n",
              "        <path d=\"M19 3H5c-1.1 0-2 .9-2 2v14c0 1.1.9 2 2 2h14c1.1 0 2-.9 2-2V5c0-1.1-.9-2-2-2zM9 17H7v-7h2v7zm4 0h-2V7h2v10zm4 0h-2v-4h2v4z\"/>\n",
              "    </g>\n",
              "</svg>\n",
              "  </button>\n",
              "\n",
              "<style>\n",
              "  .colab-df-quickchart {\n",
              "      --bg-color: #E8F0FE;\n",
              "      --fill-color: #1967D2;\n",
              "      --hover-bg-color: #E2EBFA;\n",
              "      --hover-fill-color: #174EA6;\n",
              "      --disabled-fill-color: #AAA;\n",
              "      --disabled-bg-color: #DDD;\n",
              "  }\n",
              "\n",
              "  [theme=dark] .colab-df-quickchart {\n",
              "      --bg-color: #3B4455;\n",
              "      --fill-color: #D2E3FC;\n",
              "      --hover-bg-color: #434B5C;\n",
              "      --hover-fill-color: #FFFFFF;\n",
              "      --disabled-bg-color: #3B4455;\n",
              "      --disabled-fill-color: #666;\n",
              "  }\n",
              "\n",
              "  .colab-df-quickchart {\n",
              "    background-color: var(--bg-color);\n",
              "    border: none;\n",
              "    border-radius: 50%;\n",
              "    cursor: pointer;\n",
              "    display: none;\n",
              "    fill: var(--fill-color);\n",
              "    height: 32px;\n",
              "    padding: 0;\n",
              "    width: 32px;\n",
              "  }\n",
              "\n",
              "  .colab-df-quickchart:hover {\n",
              "    background-color: var(--hover-bg-color);\n",
              "    box-shadow: 0 1px 2px rgba(60, 64, 67, 0.3), 0 1px 3px 1px rgba(60, 64, 67, 0.15);\n",
              "    fill: var(--button-hover-fill-color);\n",
              "  }\n",
              "\n",
              "  .colab-df-quickchart-complete:disabled,\n",
              "  .colab-df-quickchart-complete:disabled:hover {\n",
              "    background-color: var(--disabled-bg-color);\n",
              "    fill: var(--disabled-fill-color);\n",
              "    box-shadow: none;\n",
              "  }\n",
              "\n",
              "  .colab-df-spinner {\n",
              "    border: 2px solid var(--fill-color);\n",
              "    border-color: transparent;\n",
              "    border-bottom-color: var(--fill-color);\n",
              "    animation:\n",
              "      spin 1s steps(1) infinite;\n",
              "  }\n",
              "\n",
              "  @keyframes spin {\n",
              "    0% {\n",
              "      border-color: transparent;\n",
              "      border-bottom-color: var(--fill-color);\n",
              "      border-left-color: var(--fill-color);\n",
              "    }\n",
              "    20% {\n",
              "      border-color: transparent;\n",
              "      border-left-color: var(--fill-color);\n",
              "      border-top-color: var(--fill-color);\n",
              "    }\n",
              "    30% {\n",
              "      border-color: transparent;\n",
              "      border-left-color: var(--fill-color);\n",
              "      border-top-color: var(--fill-color);\n",
              "      border-right-color: var(--fill-color);\n",
              "    }\n",
              "    40% {\n",
              "      border-color: transparent;\n",
              "      border-right-color: var(--fill-color);\n",
              "      border-top-color: var(--fill-color);\n",
              "    }\n",
              "    60% {\n",
              "      border-color: transparent;\n",
              "      border-right-color: var(--fill-color);\n",
              "    }\n",
              "    80% {\n",
              "      border-color: transparent;\n",
              "      border-right-color: var(--fill-color);\n",
              "      border-bottom-color: var(--fill-color);\n",
              "    }\n",
              "    90% {\n",
              "      border-color: transparent;\n",
              "      border-bottom-color: var(--fill-color);\n",
              "    }\n",
              "  }\n",
              "</style>\n",
              "\n",
              "  <script>\n",
              "    async function quickchart(key) {\n",
              "      const quickchartButtonEl =\n",
              "        document.querySelector('#' + key + ' button');\n",
              "      quickchartButtonEl.disabled = true;  // To prevent multiple clicks.\n",
              "      quickchartButtonEl.classList.add('colab-df-spinner');\n",
              "      try {\n",
              "        const charts = await google.colab.kernel.invokeFunction(\n",
              "            'suggestCharts', [key], {});\n",
              "      } catch (error) {\n",
              "        console.error('Error during call to suggestCharts:', error);\n",
              "      }\n",
              "      quickchartButtonEl.classList.remove('colab-df-spinner');\n",
              "      quickchartButtonEl.classList.add('colab-df-quickchart-complete');\n",
              "    }\n",
              "    (() => {\n",
              "      let quickchartButtonEl =\n",
              "        document.querySelector('#df-6df46b8b-e998-40a8-8b06-290aaed6ed09 button');\n",
              "      quickchartButtonEl.style.display =\n",
              "        google.colab.kernel.accessAllowed ? 'block' : 'none';\n",
              "    })();\n",
              "  </script>\n",
              "</div>\n",
              "\n",
              "    </div>\n",
              "  </div>\n"
            ],
            "application/vnd.google.colaboratory.intrinsic+json": {
              "type": "dataframe",
              "variable_name": "customer_data",
              "summary": "{\n  \"name\": \"customer_data\",\n  \"rows\": 200,\n  \"fields\": [\n    {\n      \"column\": \"CustomerID\",\n      \"properties\": {\n        \"dtype\": \"number\",\n        \"std\": 57,\n        \"min\": 1,\n        \"max\": 200,\n        \"num_unique_values\": 200,\n        \"samples\": [\n          96,\n          16,\n          31\n        ],\n        \"semantic_type\": \"\",\n        \"description\": \"\"\n      }\n    },\n    {\n      \"column\": \"Gender\",\n      \"properties\": {\n        \"dtype\": \"category\",\n        \"num_unique_values\": 2,\n        \"samples\": [\n          \"Female\",\n          \"Male\"\n        ],\n        \"semantic_type\": \"\",\n        \"description\": \"\"\n      }\n    },\n    {\n      \"column\": \"Age\",\n      \"properties\": {\n        \"dtype\": \"number\",\n        \"std\": 13,\n        \"min\": 18,\n        \"max\": 70,\n        \"num_unique_values\": 51,\n        \"samples\": [\n          55,\n          26\n        ],\n        \"semantic_type\": \"\",\n        \"description\": \"\"\n      }\n    },\n    {\n      \"column\": \"Annual Income (k$)\",\n      \"properties\": {\n        \"dtype\": \"number\",\n        \"std\": 26,\n        \"min\": 15,\n        \"max\": 137,\n        \"num_unique_values\": 64,\n        \"samples\": [\n          87,\n          101\n        ],\n        \"semantic_type\": \"\",\n        \"description\": \"\"\n      }\n    },\n    {\n      \"column\": \"Spending Score (1-100)\",\n      \"properties\": {\n        \"dtype\": \"number\",\n        \"std\": 25,\n        \"min\": 1,\n        \"max\": 99,\n        \"num_unique_values\": 84,\n        \"samples\": [\n          83,\n          39\n        ],\n        \"semantic_type\": \"\",\n        \"description\": \"\"\n      }\n    }\n  ]\n}"
            }
          },
          "metadata": {},
          "execution_count": 5
        }
      ]
    },
    {
      "cell_type": "code",
      "source": [
        "# Finding the rows and columns\n",
        "customer_data.shape, customer_data.size"
      ],
      "metadata": {
        "colab": {
          "base_uri": "https://localhost:8080/"
        },
        "id": "5AwABlC2Vrim",
        "outputId": "544e97cd-c097-4c86-accc-9cd19426efd8"
      },
      "execution_count": 7,
      "outputs": [
        {
          "output_type": "execute_result",
          "data": {
            "text/plain": [
              "((200, 5), 1000)"
            ]
          },
          "metadata": {},
          "execution_count": 7
        }
      ]
    },
    {
      "cell_type": "code",
      "source": [
        "# Getting some more information about our dataset\n",
        "customer_data.info()"
      ],
      "metadata": {
        "colab": {
          "base_uri": "https://localhost:8080/"
        },
        "id": "Rmz6M8skWArI",
        "outputId": "4e06fe8c-d4fd-4009-ea7c-f0cb9fe21cd2"
      },
      "execution_count": 8,
      "outputs": [
        {
          "output_type": "stream",
          "name": "stdout",
          "text": [
            "<class 'pandas.core.frame.DataFrame'>\n",
            "RangeIndex: 200 entries, 0 to 199\n",
            "Data columns (total 5 columns):\n",
            " #   Column                  Non-Null Count  Dtype \n",
            "---  ------                  --------------  ----- \n",
            " 0   CustomerID              200 non-null    int64 \n",
            " 1   Gender                  200 non-null    object\n",
            " 2   Age                     200 non-null    int64 \n",
            " 3   Annual Income (k$)      200 non-null    int64 \n",
            " 4   Spending Score (1-100)  200 non-null    int64 \n",
            "dtypes: int64(4), object(1)\n",
            "memory usage: 7.9+ KB\n"
          ]
        }
      ]
    },
    {
      "cell_type": "code",
      "source": [
        "# Check the missing values\n",
        "customer_data.isnull().sum()"
      ],
      "metadata": {
        "colab": {
          "base_uri": "https://localhost:8080/",
          "height": 241
        },
        "id": "Oe5l3Yr9WgMe",
        "outputId": "6dd8dfa0-f50d-4aef-c7d7-00f066a73366"
      },
      "execution_count": 25,
      "outputs": [
        {
          "output_type": "execute_result",
          "data": {
            "text/plain": [
              "CustomerID                0\n",
              "Gender                    0\n",
              "Age                       0\n",
              "Annual Income (k$)        0\n",
              "Spending Score (1-100)    0\n",
              "dtype: int64"
            ],
            "text/html": [
              "<div>\n",
              "<style scoped>\n",
              "    .dataframe tbody tr th:only-of-type {\n",
              "        vertical-align: middle;\n",
              "    }\n",
              "\n",
              "    .dataframe tbody tr th {\n",
              "        vertical-align: top;\n",
              "    }\n",
              "\n",
              "    .dataframe thead th {\n",
              "        text-align: right;\n",
              "    }\n",
              "</style>\n",
              "<table border=\"1\" class=\"dataframe\">\n",
              "  <thead>\n",
              "    <tr style=\"text-align: right;\">\n",
              "      <th></th>\n",
              "      <th>0</th>\n",
              "    </tr>\n",
              "  </thead>\n",
              "  <tbody>\n",
              "    <tr>\n",
              "      <th>CustomerID</th>\n",
              "      <td>0</td>\n",
              "    </tr>\n",
              "    <tr>\n",
              "      <th>Gender</th>\n",
              "      <td>0</td>\n",
              "    </tr>\n",
              "    <tr>\n",
              "      <th>Age</th>\n",
              "      <td>0</td>\n",
              "    </tr>\n",
              "    <tr>\n",
              "      <th>Annual Income (k$)</th>\n",
              "      <td>0</td>\n",
              "    </tr>\n",
              "    <tr>\n",
              "      <th>Spending Score (1-100)</th>\n",
              "      <td>0</td>\n",
              "    </tr>\n",
              "  </tbody>\n",
              "</table>\n",
              "</div><br><label><b>dtype:</b> int64</label>"
            ]
          },
          "metadata": {},
          "execution_count": 25
        }
      ]
    },
    {
      "cell_type": "markdown",
      "source": [
        "🔑 **Note:**  In yhis case we don't have any missing values. But in case if you have any missing values you can use **Imputation** method to rephrase those missing values with suitable values."
      ],
      "metadata": {
        "id": "IqHMq6oIWzKN"
      }
    },
    {
      "cell_type": "markdown",
      "source": [
        "### Choosing the `Annual Income` column and `Spending Score` column"
      ],
      "metadata": {
        "id": "pgWiQAN9Wr36"
      }
    },
    {
      "cell_type": "code",
      "source": [
        "X = customer_data.iloc[:,[3,4]].values\n",
        "X, X.shape, X.size"
      ],
      "metadata": {
        "colab": {
          "base_uri": "https://localhost:8080/"
        },
        "id": "0TRi8dYjXtZY",
        "outputId": "8414d142-6cb7-4810-a76f-5bc29c87c4c7"
      },
      "execution_count": 31,
      "outputs": [
        {
          "output_type": "execute_result",
          "data": {
            "text/plain": [
              "(array([[ 15,  39],\n",
              "        [ 15,  81],\n",
              "        [ 16,   6],\n",
              "        [ 16,  77],\n",
              "        [ 17,  40],\n",
              "        [ 17,  76],\n",
              "        [ 18,   6],\n",
              "        [ 18,  94],\n",
              "        [ 19,   3],\n",
              "        [ 19,  72],\n",
              "        [ 19,  14],\n",
              "        [ 19,  99],\n",
              "        [ 20,  15],\n",
              "        [ 20,  77],\n",
              "        [ 20,  13],\n",
              "        [ 20,  79],\n",
              "        [ 21,  35],\n",
              "        [ 21,  66],\n",
              "        [ 23,  29],\n",
              "        [ 23,  98],\n",
              "        [ 24,  35],\n",
              "        [ 24,  73],\n",
              "        [ 25,   5],\n",
              "        [ 25,  73],\n",
              "        [ 28,  14],\n",
              "        [ 28,  82],\n",
              "        [ 28,  32],\n",
              "        [ 28,  61],\n",
              "        [ 29,  31],\n",
              "        [ 29,  87],\n",
              "        [ 30,   4],\n",
              "        [ 30,  73],\n",
              "        [ 33,   4],\n",
              "        [ 33,  92],\n",
              "        [ 33,  14],\n",
              "        [ 33,  81],\n",
              "        [ 34,  17],\n",
              "        [ 34,  73],\n",
              "        [ 37,  26],\n",
              "        [ 37,  75],\n",
              "        [ 38,  35],\n",
              "        [ 38,  92],\n",
              "        [ 39,  36],\n",
              "        [ 39,  61],\n",
              "        [ 39,  28],\n",
              "        [ 39,  65],\n",
              "        [ 40,  55],\n",
              "        [ 40,  47],\n",
              "        [ 40,  42],\n",
              "        [ 40,  42],\n",
              "        [ 42,  52],\n",
              "        [ 42,  60],\n",
              "        [ 43,  54],\n",
              "        [ 43,  60],\n",
              "        [ 43,  45],\n",
              "        [ 43,  41],\n",
              "        [ 44,  50],\n",
              "        [ 44,  46],\n",
              "        [ 46,  51],\n",
              "        [ 46,  46],\n",
              "        [ 46,  56],\n",
              "        [ 46,  55],\n",
              "        [ 47,  52],\n",
              "        [ 47,  59],\n",
              "        [ 48,  51],\n",
              "        [ 48,  59],\n",
              "        [ 48,  50],\n",
              "        [ 48,  48],\n",
              "        [ 48,  59],\n",
              "        [ 48,  47],\n",
              "        [ 49,  55],\n",
              "        [ 49,  42],\n",
              "        [ 50,  49],\n",
              "        [ 50,  56],\n",
              "        [ 54,  47],\n",
              "        [ 54,  54],\n",
              "        [ 54,  53],\n",
              "        [ 54,  48],\n",
              "        [ 54,  52],\n",
              "        [ 54,  42],\n",
              "        [ 54,  51],\n",
              "        [ 54,  55],\n",
              "        [ 54,  41],\n",
              "        [ 54,  44],\n",
              "        [ 54,  57],\n",
              "        [ 54,  46],\n",
              "        [ 57,  58],\n",
              "        [ 57,  55],\n",
              "        [ 58,  60],\n",
              "        [ 58,  46],\n",
              "        [ 59,  55],\n",
              "        [ 59,  41],\n",
              "        [ 60,  49],\n",
              "        [ 60,  40],\n",
              "        [ 60,  42],\n",
              "        [ 60,  52],\n",
              "        [ 60,  47],\n",
              "        [ 60,  50],\n",
              "        [ 61,  42],\n",
              "        [ 61,  49],\n",
              "        [ 62,  41],\n",
              "        [ 62,  48],\n",
              "        [ 62,  59],\n",
              "        [ 62,  55],\n",
              "        [ 62,  56],\n",
              "        [ 62,  42],\n",
              "        [ 63,  50],\n",
              "        [ 63,  46],\n",
              "        [ 63,  43],\n",
              "        [ 63,  48],\n",
              "        [ 63,  52],\n",
              "        [ 63,  54],\n",
              "        [ 64,  42],\n",
              "        [ 64,  46],\n",
              "        [ 65,  48],\n",
              "        [ 65,  50],\n",
              "        [ 65,  43],\n",
              "        [ 65,  59],\n",
              "        [ 67,  43],\n",
              "        [ 67,  57],\n",
              "        [ 67,  56],\n",
              "        [ 67,  40],\n",
              "        [ 69,  58],\n",
              "        [ 69,  91],\n",
              "        [ 70,  29],\n",
              "        [ 70,  77],\n",
              "        [ 71,  35],\n",
              "        [ 71,  95],\n",
              "        [ 71,  11],\n",
              "        [ 71,  75],\n",
              "        [ 71,   9],\n",
              "        [ 71,  75],\n",
              "        [ 72,  34],\n",
              "        [ 72,  71],\n",
              "        [ 73,   5],\n",
              "        [ 73,  88],\n",
              "        [ 73,   7],\n",
              "        [ 73,  73],\n",
              "        [ 74,  10],\n",
              "        [ 74,  72],\n",
              "        [ 75,   5],\n",
              "        [ 75,  93],\n",
              "        [ 76,  40],\n",
              "        [ 76,  87],\n",
              "        [ 77,  12],\n",
              "        [ 77,  97],\n",
              "        [ 77,  36],\n",
              "        [ 77,  74],\n",
              "        [ 78,  22],\n",
              "        [ 78,  90],\n",
              "        [ 78,  17],\n",
              "        [ 78,  88],\n",
              "        [ 78,  20],\n",
              "        [ 78,  76],\n",
              "        [ 78,  16],\n",
              "        [ 78,  89],\n",
              "        [ 78,   1],\n",
              "        [ 78,  78],\n",
              "        [ 78,   1],\n",
              "        [ 78,  73],\n",
              "        [ 79,  35],\n",
              "        [ 79,  83],\n",
              "        [ 81,   5],\n",
              "        [ 81,  93],\n",
              "        [ 85,  26],\n",
              "        [ 85,  75],\n",
              "        [ 86,  20],\n",
              "        [ 86,  95],\n",
              "        [ 87,  27],\n",
              "        [ 87,  63],\n",
              "        [ 87,  13],\n",
              "        [ 87,  75],\n",
              "        [ 87,  10],\n",
              "        [ 87,  92],\n",
              "        [ 88,  13],\n",
              "        [ 88,  86],\n",
              "        [ 88,  15],\n",
              "        [ 88,  69],\n",
              "        [ 93,  14],\n",
              "        [ 93,  90],\n",
              "        [ 97,  32],\n",
              "        [ 97,  86],\n",
              "        [ 98,  15],\n",
              "        [ 98,  88],\n",
              "        [ 99,  39],\n",
              "        [ 99,  97],\n",
              "        [101,  24],\n",
              "        [101,  68],\n",
              "        [103,  17],\n",
              "        [103,  85],\n",
              "        [103,  23],\n",
              "        [103,  69],\n",
              "        [113,   8],\n",
              "        [113,  91],\n",
              "        [120,  16],\n",
              "        [120,  79],\n",
              "        [126,  28],\n",
              "        [126,  74],\n",
              "        [137,  18],\n",
              "        [137,  83]]),\n",
              " (200, 2),\n",
              " 400)"
            ]
          },
          "metadata": {},
          "execution_count": 31
        }
      ]
    },
    {
      "cell_type": "markdown",
      "source": [
        "Choosing the number of clusters:\n",
        " * WCSS --> Within Clusters Sum of Squares\n",
        "\n",
        "📖 **Resources:** https://www.ibm.com/topics/k-means-clustering\n"
      ],
      "metadata": {
        "id": "5VhxclEIYYwr"
      }
    },
    {
      "cell_type": "code",
      "source": [
        "# Finding WCSS value for different number of clusters\n",
        "\n",
        "wcss = []\n",
        "for i in range (1,11):\n",
        "  k_means = KMeans(n_clusters=i,init='k-means++', random_state=42)\n",
        "  k_means.fit(X)\n",
        "\n",
        "  wcss.append(k_means.inertia_)"
      ],
      "metadata": {
        "colab": {
          "base_uri": "https://localhost:8080/"
        },
        "id": "OWhrIf4bYN0x",
        "outputId": "f37cd0dc-84f6-4406-d8b7-0578cd5f2dbe"
      },
      "execution_count": 27,
      "outputs": [
        {
          "output_type": "stream",
          "name": "stderr",
          "text": [
            "/usr/local/lib/python3.10/dist-packages/sklearn/cluster/_kmeans.py:1416: FutureWarning: The default value of `n_init` will change from 10 to 'auto' in 1.4. Set the value of `n_init` explicitly to suppress the warning\n",
            "  super()._check_params_vs_input(X, default_n_init=10)\n",
            "/usr/local/lib/python3.10/dist-packages/sklearn/cluster/_kmeans.py:1416: FutureWarning: The default value of `n_init` will change from 10 to 'auto' in 1.4. Set the value of `n_init` explicitly to suppress the warning\n",
            "  super()._check_params_vs_input(X, default_n_init=10)\n",
            "/usr/local/lib/python3.10/dist-packages/sklearn/cluster/_kmeans.py:1416: FutureWarning: The default value of `n_init` will change from 10 to 'auto' in 1.4. Set the value of `n_init` explicitly to suppress the warning\n",
            "  super()._check_params_vs_input(X, default_n_init=10)\n",
            "/usr/local/lib/python3.10/dist-packages/sklearn/cluster/_kmeans.py:1416: FutureWarning: The default value of `n_init` will change from 10 to 'auto' in 1.4. Set the value of `n_init` explicitly to suppress the warning\n",
            "  super()._check_params_vs_input(X, default_n_init=10)\n",
            "/usr/local/lib/python3.10/dist-packages/sklearn/cluster/_kmeans.py:1416: FutureWarning: The default value of `n_init` will change from 10 to 'auto' in 1.4. Set the value of `n_init` explicitly to suppress the warning\n",
            "  super()._check_params_vs_input(X, default_n_init=10)\n",
            "/usr/local/lib/python3.10/dist-packages/sklearn/cluster/_kmeans.py:1416: FutureWarning: The default value of `n_init` will change from 10 to 'auto' in 1.4. Set the value of `n_init` explicitly to suppress the warning\n",
            "  super()._check_params_vs_input(X, default_n_init=10)\n",
            "/usr/local/lib/python3.10/dist-packages/sklearn/cluster/_kmeans.py:1416: FutureWarning: The default value of `n_init` will change from 10 to 'auto' in 1.4. Set the value of `n_init` explicitly to suppress the warning\n",
            "  super()._check_params_vs_input(X, default_n_init=10)\n",
            "/usr/local/lib/python3.10/dist-packages/sklearn/cluster/_kmeans.py:1416: FutureWarning: The default value of `n_init` will change from 10 to 'auto' in 1.4. Set the value of `n_init` explicitly to suppress the warning\n",
            "  super()._check_params_vs_input(X, default_n_init=10)\n",
            "/usr/local/lib/python3.10/dist-packages/sklearn/cluster/_kmeans.py:1416: FutureWarning: The default value of `n_init` will change from 10 to 'auto' in 1.4. Set the value of `n_init` explicitly to suppress the warning\n",
            "  super()._check_params_vs_input(X, default_n_init=10)\n",
            "/usr/local/lib/python3.10/dist-packages/sklearn/cluster/_kmeans.py:1416: FutureWarning: The default value of `n_init` will change from 10 to 'auto' in 1.4. Set the value of `n_init` explicitly to suppress the warning\n",
            "  super()._check_params_vs_input(X, default_n_init=10)\n"
          ]
        }
      ]
    },
    {
      "cell_type": "code",
      "source": [
        "# Plot an elbow graph\n",
        "sns.set()\n",
        "plt.plot(range(1,11), wcss)\n",
        "plt.title(\"The Elbow Point Graph\")\n",
        "plt.xlabel(\"Number of Clusters\")\n",
        "plt.ylabel(\"WCSS\")\n",
        "plt.show()"
      ],
      "metadata": {
        "colab": {
          "base_uri": "https://localhost:8080/",
          "height": 480
        },
        "id": "_wt0-33PayJ0",
        "outputId": "69405701-1e14-4502-8ab9-216f6486c75c"
      },
      "execution_count": 28,
      "outputs": [
        {
          "output_type": "display_data",
          "data": {
            "text/plain": [
              "<Figure size 640x480 with 1 Axes>"
            ],
            "image/png": "[encoded data removed]"
          },
          "metadata": {}
        }
      ]
    },
    {
      "cell_type": "markdown",
      "source": [
        "In this case, the optimum number of cluters is 5"
      ],
      "metadata": {
        "id": "36aInATIgDC3"
      }
    },
    {
      "cell_type": "markdown",
      "source": [
        "Training the K-Means Clustering Model"
      ],
      "metadata": {
        "id": "dXd_rZBZgk_K"
      }
    },
    {
      "cell_type": "code",
      "source": [
        "k_means = KMeans(n_clusters= 5, init ='k-means++', random_state = 0)\n",
        "\n",
        "# Return a label for each datapoint based on their Cluster\n",
        "Y = k_means.fit_predict(X)\n",
        "Y\n"
      ],
      "metadata": {
        "colab": {
          "base_uri": "https://localhost:8080/"
        },
        "id": "KVlsgbImiRfR",
        "outputId": "9f50eafa-63a5-4fa4-dbd0-bca4b35bda61"
      },
      "execution_count": 32,
      "outputs": [
        {
          "output_type": "stream",
          "name": "stderr",
          "text": [
            "/usr/local/lib/python3.10/dist-packages/sklearn/cluster/_kmeans.py:1416: FutureWarning: The default value of `n_init` will change from 10 to 'auto' in 1.4. Set the value of `n_init` explicitly to suppress the warning\n",
            "  super()._check_params_vs_input(X, default_n_init=10)\n"
          ]
        },
        {
          "output_type": "execute_result",
          "data": {
            "text/plain": [
              "array([3, 4, 3, 4, 3, 4, 3, 4, 3, 4, 3, 4, 3, 4, 3, 4, 3, 4, 3, 4, 3, 4,\n",
              "       3, 4, 3, 4, 3, 4, 3, 4, 3, 4, 3, 4, 3, 4, 3, 4, 3, 4, 3, 4, 3, 0,\n",
              "       3, 4, 0, 0, 0, 0, 0, 0, 0, 0, 0, 0, 0, 0, 0, 0, 0, 0, 0, 0, 0, 0,\n",
              "       0, 0, 0, 0, 0, 0, 0, 0, 0, 0, 0, 0, 0, 0, 0, 0, 0, 0, 0, 0, 0, 0,\n",
              "       0, 0, 0, 0, 0, 0, 0, 0, 0, 0, 0, 0, 0, 0, 0, 0, 0, 0, 0, 0, 0, 0,\n",
              "       0, 0, 0, 0, 0, 0, 0, 0, 0, 0, 0, 0, 0, 1, 2, 1, 0, 1, 2, 1, 2, 1,\n",
              "       0, 1, 2, 1, 2, 1, 2, 1, 2, 1, 0, 1, 2, 1, 2, 1, 2, 1, 2, 1, 2, 1,\n",
              "       2, 1, 2, 1, 2, 1, 2, 1, 2, 1, 2, 1, 2, 1, 2, 1, 2, 1, 2, 1, 2, 1,\n",
              "       2, 1, 2, 1, 2, 1, 2, 1, 2, 1, 2, 1, 2, 1, 2, 1, 2, 1, 2, 1, 2, 1,\n",
              "       2, 1], dtype=int32)"
            ]
          },
          "metadata": {},
          "execution_count": 32
        }
      ]
    },
    {
      "cell_type": "markdown",
      "source": [
        "5 Clusters : 0, 1, 2, 3, 4"
      ],
      "metadata": {
        "id": "mQC91eYumNzt"
      }
    },
    {
      "cell_type": "markdown",
      "source": [
        "Visualizing all the Clusters"
      ],
      "metadata": {
        "id": "rlUAYIwNjeTP"
      }
    },
    {
      "cell_type": "code",
      "source": [
        "# Plotting all the Clusters and their Centroids\n",
        "plt.figure(figsize=(10,7))\n",
        "plt.scatter(X[Y==0,0], X[Y==0,1], s = 50, c = 'green', label = \"Cluster_1\")\n",
        "plt.scatter(X[Y==1,0], X[Y==1,1], s = 50, c = 'yellow', label = \"Cluster_2\")\n",
        "plt.scatter(X[Y==2,0], X[Y==2,1], s = 50, c = 'black', label = \"Cluster_3\")\n",
        "plt.scatter(X[Y==3,0], X[Y==3,1], s = 50, c = 'red', label = \"Cluster_4\")\n",
        "plt.scatter(X[Y==4,0], X[Y==4,1], s = 50, c = 'orange', label = \"Cluster_5\")\n",
        "\n",
        "# Plot the Centroids\n",
        "plt.scatter(k_means.cluster_centers_[:,0], k_means.cluster_centers_[:,1],\n",
        "            s = 100, c = 'cyan', label = 'Centroids')\n",
        "\n",
        "plt.title('Customer Groups')\n",
        "plt.xlabel('Annual Income')\n",
        "plt.ylabel('Spending Income')\n",
        "plt.show()\n"
      ],
      "metadata": {
        "colab": {
          "base_uri": "https://localhost:8080/",
          "height": 650
        },
        "id": "9ib4O96Ljqpa",
        "outputId": "72ff9643-07f9-4232-d5c8-993139973ea1"
      },
      "execution_count": 37,
      "outputs": [
        {
          "output_type": "display_data",
          "data": {
            "text/plain": [
              "<Figure size 1000x700 with 1 Axes>"
            ],
            "image/png": "[encoded data removed]"
          },
          "metadata": {}
        }
      ]
    },
    {
      "cell_type": "code",
      "source": [],
      "metadata": {
        "id": "0uyPGFZCmC8O"
      },
      "execution_count": null,
      "outputs": []
    }
  ]
}